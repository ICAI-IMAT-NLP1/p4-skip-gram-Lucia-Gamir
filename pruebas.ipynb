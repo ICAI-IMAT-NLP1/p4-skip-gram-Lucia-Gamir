{
 "cells": [
  {
   "cell_type": "code",
   "execution_count": 9,
   "metadata": {},
   "outputs": [
    {
     "name": "stdout",
     "output_type": "stream",
     "text": [
      "Counter({'b': 3, 'a': 1, 'r': 1})\n"
     ]
    },
    {
     "data": {
      "text/plain": [
       "['b', 'a', 'r']"
      ]
     },
     "execution_count": 9,
     "metadata": {},
     "output_type": "execute_result"
    }
   ],
   "source": [
    "from collections import Counter\n",
    "l = [\"a\", \"b\", \"r\", \"b\", \"b\"]\n",
    "\n",
    "c = Counter(l)\n",
    "print(c)\n",
    "sorted(set(l), key=lambda x: c[x], reverse=True)"
   ]
  },
  {
   "cell_type": "code",
   "execution_count": 12,
   "metadata": {},
   "outputs": [
    {
     "data": {
      "text/plain": [
       "list"
      ]
     },
     "execution_count": 12,
     "metadata": {},
     "output_type": "execute_result"
    }
   ],
   "source": [
    "words = [1, 2, 3, 4]\n",
    "token = [str(word) for word in words]\n",
    "type(token)"
   ]
  },
  {
   "cell_type": "code",
   "execution_count": 16,
   "metadata": {},
   "outputs": [
    {
     "name": "stdout",
     "output_type": "stream",
     "text": [
      "[1, 2, 3]\n"
     ]
    }
   ],
   "source": [
    "import torch\n",
    "a = torch.tensor([1,2,3])\n",
    "print(a.tolist())"
   ]
  },
  {
   "cell_type": "code",
   "execution_count": 21,
   "metadata": {},
   "outputs": [
    {
     "name": "stdout",
     "output_type": "stream",
     "text": [
      "['brown', 'fox', 'over', 'the']\n"
     ]
    }
   ],
   "source": [
    "words = [\"the\", \"quick\", \"brown\", \"fox\", \"jumps\", \"over\", \"the\", \"lazy\", \"dog\"]\n",
    "print(words[4-2:4] + words[4+1:4+2+1])"
   ]
  },
  {
   "cell_type": "code",
   "execution_count": 23,
   "metadata": {},
   "outputs": [
    {
     "name": "stdout",
     "output_type": "stream",
     "text": [
      "['0', '0', '0']\n"
     ]
    }
   ],
   "source": [
    "a = []\n",
    "a += [\"0\"]*3\n",
    "print(a)"
   ]
  },
  {
   "cell_type": "code",
   "execution_count": 26,
   "metadata": {},
   "outputs": [
    {
     "name": "stdout",
     "output_type": "stream",
     "text": [
      "tensor([[0., 0., 0.],\n",
      "        [0., 0., 0.]])\n"
     ]
    }
   ],
   "source": [
    "col = 3\n",
    "fil = 2\n",
    "similarities: torch.Tensor = torch.zeros((fil,col))\n",
    "print(similarities)"
   ]
  },
  {
   "cell_type": "code",
   "execution_count": 14,
   "metadata": {},
   "outputs": [
    {
     "name": "stdout",
     "output_type": "stream",
     "text": [
      "tensor([[1., 1., 1., 1., 1., 1., 1., 1., 1., 1., 1., 1., 1., 1., 1.],\n",
      "        [1., 1., 1., 1., 1., 1., 1., 1., 1., 1., 1., 1., 1., 1., 1.]])\n",
      "torch.Size([2, 15])\n",
      "tensor([[ 7,  3,  6],\n",
      "        [10,  4, 13]])\n"
     ]
    }
   ],
   "source": [
    "import torch\n",
    "batch_size = 2\n",
    "n_samples = 3\n",
    "\n",
    "noise_dist: torch.Tensor = torch.ones(torch.tensor(15))\n",
    "\n",
    "# Sample words from our noise distribution\n",
    "# TODO\n",
    "noise_dist = noise_dist.expand((batch_size, noise_dist.shape[0]))\n",
    "noise_words: torch.Tensor = torch.multinomial(noise_dist, n_samples)\n",
    "\n",
    "print(noise_dist)\n",
    "print(noise_dist.size())\n",
    "print(noise_words)"
   ]
  },
  {
   "cell_type": "code",
   "execution_count": 55,
   "metadata": {},
   "outputs": [
    {
     "name": "stdout",
     "output_type": "stream",
     "text": [
      "tensor([[[8, 9]],\n",
      "\n",
      "        [[4, 3]]])\n",
      "tensor([[[4],\n",
      "         [5]],\n",
      "\n",
      "        [[2],\n",
      "         [3]]])\n",
      "tensor([[[77]],\n",
      "\n",
      "        [[17]]])\n",
      "tensor([77, 17])\n"
     ]
    }
   ],
   "source": [
    "a = torch.tensor([[8,9],[4,3]])\n",
    "b = torch.tensor([[4,5],[2,3]])\n",
    "print(a.unsqueeze(1))\n",
    "print(b.unsqueeze(2))\n",
    "c = torch.bmm(a.unsqueeze(1),b.unsqueeze(2))\n",
    "print(c)\n",
    "c = c.squeeze()\n",
    "print(c)"
   ]
  },
  {
   "cell_type": "code",
   "execution_count": 29,
   "metadata": {},
   "outputs": [
    {
     "name": "stdout",
     "output_type": "stream",
     "text": [
      "tensor([-4.5254,  0.9362,  2.6510,  0.3166,  2.1034])\n"
     ]
    }
   ],
   "source": [
    "# Ejemplo con N=5, d=3\n",
    "N, d = 5, 3\n",
    "A = torch.randn(N, d)  # (N, d) -> Filas son vectores\n",
    "B = torch.randn(d, N)  # (d, N) -> Columnas son vectores\n",
    "\n",
    "# Reshape para usar bmm\n",
    "A_reshaped = A.unsqueeze(1)  # (N, 1, d)\n",
    "B_reshaped = B.T.unsqueeze(2)  # (N, d, 1) -> Transponer B para alinear con A\n",
    "\n",
    "# Batch Matrix Multiplication (bmm)\n",
    "dot_products = torch.bmm(A_reshaped, B_reshaped).squeeze()  # (N, 1, 1) -> (N,)\n",
    "\n",
    "print(dot_products)  # Tensor de tamaño (N,)"
   ]
  },
  {
   "cell_type": "code",
   "execution_count": 49,
   "metadata": {},
   "outputs": [
    {
     "name": "stdout",
     "output_type": "stream",
     "text": [
      "torch.Size([2, 3])\n",
      "tensor([93, 86])\n"
     ]
    }
   ],
   "source": [
    "input = torch.tensor([[8,9],[4,3]])\n",
    "output = torch.tensor([[[0,1],[2,3],[4,1]], [[5,3],[8,2],[4,1]]])\n",
    "\n",
    "input_unsqueeze = input.unsqueeze(1)\n",
    "# print(input_unsqueeze)\n",
    "# print(input_unsqueeze.shape)\n",
    "\n",
    "o_t = output.transpose(1,2)\n",
    "\n",
    "c = torch.bmm(input_unsqueeze, o_t).squeeze()\n",
    "print(c.shape)\n",
    "c = c.sum(dim=1)\n",
    "print(c)"
   ]
  },
  {
   "cell_type": "code",
   "execution_count": 53,
   "metadata": {},
   "outputs": [
    {
     "name": "stdout",
     "output_type": "stream",
     "text": [
      "tensor([[[4, 5]],\n",
      "\n",
      "        [[2, 3]]])\n",
      "tensor([[[4],\n",
      "         [5]],\n",
      "\n",
      "        [[2],\n",
      "         [3]]])\n"
     ]
    }
   ],
   "source": [
    "b = torch.tensor([[4,5],[2,3]])\n",
    "print(b.unsqueeze(1))\n",
    "print(b.unsqueeze(2))"
   ]
  }
 ],
 "metadata": {
  "kernelspec": {
   "display_name": "base",
   "language": "python",
   "name": "python3"
  },
  "language_info": {
   "codemirror_mode": {
    "name": "ipython",
    "version": 3
   },
   "file_extension": ".py",
   "mimetype": "text/x-python",
   "name": "python",
   "nbconvert_exporter": "python",
   "pygments_lexer": "ipython3",
   "version": "3.9.12"
  }
 },
 "nbformat": 4,
 "nbformat_minor": 2
}
